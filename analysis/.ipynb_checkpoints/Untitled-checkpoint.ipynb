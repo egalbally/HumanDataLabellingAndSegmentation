{
 "cells": [
  {
   "cell_type": "code",
   "execution_count": 26,
   "metadata": {},
   "outputs": [],
   "source": [
    "import imageio\n",
    "import matplotlib.animation as ani\n",
    "import matplotlib.cm as cmx\n",
    "import matplotlib.colors as colors\n",
    "import matplotlib.pyplot as plt\n",
    "import numpy as np\n",
    "import scipy as scipy\n",
    "import enum\n",
    "import sys\n",
    "import bisect\n",
    "import random\n",
    "import collections\n",
    "import os\n",
    "\n",
    "from matplotlib.patches import Ellipse\n",
    "from PIL import Image\n",
    "from sklearn import datasets\n",
    "from sklearn.cluster import KMeans\n",
    "from matplotlib.ticker import MaxNLocator\n",
    "\n",
    "from read_data import read_data0, read_data1\n",
    "from plot_data import compute_success_rate, getlabels, plot_file"
   ]
  },
  {
   "cell_type": "code",
   "execution_count": 37,
   "metadata": {},
   "outputs": [],
   "source": [
    "numTMatrixUpdates = 2\n",
    "NUM_RUNS = 3\n",
    "lastT = numTMatrixUpdates - 1\n",
    "run2plot = [1, 2]\n",
    "trans2plot = [0,lastT]\n",
    "\n",
    "# for i in range(2): \n",
    "#     for t in range(2):\n",
    "#         plot_file('../data/medium_cap/raw_medium_cap/run{0:d}'.format(run2plot[i]),\n",
    "#             tlabelfile=\"results/run{0:d}_tlabels_T{1:d}\".format(run2plot[i],trans2plot[t]),\n",
    "#             prlabelfile=\"results/run{0:d}_prmlabels_T{1:d}\".format(run2plot[i],trans2plot[t]),\n",
    "#             tlabelfileTruth='../data/medium_cap/raw_medium_cap/run{0:d}_tlabels'.format(run2plot[i]),\n",
    "#             prlabelfileTruth='../data/medium_cap/raw_medium_cap/run{0:d}_prmlabels'.format(run2plot[i])\n",
    "#             )\n",
    "#         plt.savefig(\"figures/labelled_run{0:d}_T{1:d}.png\".format(run2plot[i],trans2plot[t]),dpi=600)\n",
    "#         plt.show()"
   ]
  },
  {
   "cell_type": "code",
   "execution_count": 38,
   "metadata": {},
   "outputs": [
    {
     "name": "stdout",
     "output_type": "stream",
     "text": [
      "[0. 0.]\n",
      "run_i[0.96923 0.96667]\n",
      "run_i[0.76894 0.69318]\n",
      "[1.73817 1.65985]\n",
      "avg[0.869085 0.829925]\n"
     ]
    },
    {
     "data": {
      "image/png": "[encoded data removed]",
      "text/plain": [
       "<Figure size 432x288 with 1 Axes>"
      ]
     },
     "metadata": {
      "needs_background": "light"
     },
     "output_type": "display_data"
    }
   ],
   "source": [
    "# Plot success_rate vs. #Tmatrix_updates \n",
    "#   - legend: average success rate, success run2, success run12\n",
    "success_a = np.genfromtxt(\"results/run{0:d}_successRates\".format(run2plot[0]),skip_header=1)\n",
    "success_a = success_a[:,1]\n",
    "success_b = np.genfromtxt(\"results/run{0:d}_successRates\".format(run2plot[1]),skip_header=1)\n",
    "success_b = success_b[:,1]\n",
    "Tupdate = np.arange(0,numTMatrixUpdates,1)\n",
    "\n",
    "success_sum = np.zeros(numTMatrixUpdates)\n",
    "success_sum_prev = np.zeros(numTMatrixUpdates)\n",
    "print(success_sum)\n",
    "for i in range(1,NUM_RUNS):\n",
    "    success = np.genfromtxt(\"results/run{0:d}_successRates\".format(i),skip_header=1)\n",
    "    success = success[:,1]\n",
    "#     print(\"run_i\"+ str(success))\n",
    "    success_sum = success_sum + success\n",
    "print(success_sum)\n",
    "success_avg = success_sum/(NUM_RUNS-1)\n",
    "# print(\"avg\"+ str(success_avg)) \n",
    "\n",
    "plt.plot(Tupdate, success_a, label = 'run{0:d}'.format(run2plot[0]))\n",
    "plt.plot(Tupdate, success_b, label = 'run{0:d}'.format(run2plot[1]))\n",
    "plt.plot(Tupdate, success_avg, label = 'avg')\n",
    "plt.ylabel('success')\n",
    "plt.xlabel('update number')\n",
    "plt.title('Success vs. T_matrix Updates')\n",
    "plt.legend()\n",
    "plt.savefig('figures/success_vs_T.png', dpi=600)\n",
    "plt.show()\n",
    "plt.close()"
   ]
  },
  {
   "cell_type": "code",
   "execution_count": null,
   "metadata": {},
   "outputs": [],
   "source": []
  }
 ],
 "metadata": {
  "kernelspec": {
   "display_name": "Python 3",
   "language": "python",
   "name": "python3"
  },
  "language_info": {
   "codemirror_mode": {
    "name": "ipython",
    "version": 3
   },
   "file_extension": ".py",
   "mimetype": "text/x-python",
   "name": "python",
   "nbconvert_exporter": "python",
   "pygments_lexer": "ipython3",
   "version": "3.7.3"
  }
 },
 "nbformat": 4,
 "nbformat_minor": 4
}
